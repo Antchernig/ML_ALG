{
 "cells": [
  {
   "cell_type": "code",
   "execution_count": 9,
   "id": "0810c277",
   "metadata": {},
   "outputs": [],
   "source": [
    "# NEURAL NETWORKS\n",
    "\n",
    "import numpy as np\n",
    "import matplotlib.pyplot as plt\n",
    "\n",
    "from sklearn import preprocessing\n",
    "from sklearn.datasets import make_regression, make_classification\n",
    "from sklearn.model_selection import train_test_split, cross_val_score\n",
    "from sklearn.model_selection import GridSearchCV\n",
    "\n",
    "from keras import models\n",
    "from keras import layers\n",
    "from keras import regularizers\n",
    "from keras.datasets import imdb, reuters\n",
    "from keras.preprocessing.text import Tokenizer\n",
    "from keras.utils.np_utils import to_categorical\n",
    "from keras.callbacks import EarlyStopping, ModelCheckpoint\n",
    "from keras.wrappers.scikit_learn import KerasClassifier"
   ]
  },
  {
   "cell_type": "code",
   "execution_count": 2,
   "id": "20c43ff0",
   "metadata": {},
   "outputs": [
    {
     "data": {
      "text/plain": [
       "array([[-1.12541308,  1.96429418],\n",
       "       [-1.15329466, -0.50068741],\n",
       "       [ 0.29529406, -0.22809346],\n",
       "       [ 0.57385917, -0.42335076],\n",
       "       [ 1.40955451, -0.81216255]])"
      ]
     },
     "execution_count": 2,
     "metadata": {},
     "output_type": "execute_result"
    }
   ],
   "source": [
    "# PREPROCESSING DATA FOR NEURAL NETWORKS\n",
    "\n",
    "# create feature\n",
    "features = np.array([[-100.1, 3240.1],\n",
    "                     [-200.2, -234.1],\n",
    "                     [5000.5, 150.1],\n",
    "                     [6000.6, -125.1],\n",
    "                     [9000.9, -673.1]])\n",
    "\n",
    "# create scaler\n",
    "scaler = preprocessing.StandardScaler()\n",
    "# transform features\n",
    "features_std = scaler.fit_transform(features)\n",
    "# show features\n",
    "features_std"
   ]
  },
  {
   "cell_type": "code",
   "execution_count": 6,
   "id": "8605dcf0",
   "metadata": {},
   "outputs": [],
   "source": [
    "# DESIGNING A NEURAL NETWORK\n",
    "\n",
    "# start neural network\n",
    "network = models.Sequential()\n",
    "\n",
    "# add fully connected layer with a ReLU activation function\n",
    "network.add(layers.Dense(units=16, \n",
    "                         activation='relu', \n",
    "                         input_shape=(10,)))\n",
    "# add fully connected layer with a ReLU activation function\n",
    "network.add(layers.Dense(units=16, \n",
    "                         activation='relu'))\n",
    "# add fully connected layer with a sigmoid function\n",
    "network.add(layers.Dense(units=1, \n",
    "                         activation='sigmoid'))\n",
    "\n",
    "# compile neural network\n",
    "network.compile(loss='binary_crossentropy',\n",
    "               optimizer='rmsprop', # root mean square propagation\n",
    "               metrics=['accuracy'])"
   ]
  },
  {
   "cell_type": "code",
   "execution_count": 9,
   "id": "d25b1a73",
   "metadata": {},
   "outputs": [
    {
     "name": "stdout",
     "output_type": "stream",
     "text": [
      "Epoch 1/3\n",
      "250/250 [==============================] - 1s 2ms/step - loss: 0.4121 - accuracy: 0.8175 - val_loss: 0.3324 - val_accuracy: 0.8602\n",
      "Epoch 2/3\n",
      "250/250 [==============================] - 0s 1ms/step - loss: 0.3231 - accuracy: 0.8665 - val_loss: 0.3320 - val_accuracy: 0.8571\n",
      "Epoch 3/3\n",
      "250/250 [==============================] - 0s 1ms/step - loss: 0.3146 - accuracy: 0.8682 - val_loss: 0.3258 - val_accuracy: 0.8604\n"
     ]
    }
   ],
   "source": [
    "# TRAINING A BINARY CLASSIFIER\n",
    "\n",
    "np.random.seed(0)\n",
    "\n",
    "# set the number of features we want\n",
    "number_of_features = 1000\n",
    "\n",
    "# load data and target vector from movie review data\n",
    "(data_train, target_train), (data_test, target_test) = imdb.load_data(num_words=number_of_features)\n",
    "\n",
    "# convert movie review data to ine-hot encoded feature matrix\n",
    "tokenizer = Tokenizer(num_words=number_of_features)\n",
    "features_train = tokenizer.sequences_to_matrix(data_train, mode='binary')\n",
    "features_test = tokenizer.sequences_to_matrix(data_test, mode='binary')\n",
    "\n",
    "# start neural network\n",
    "network = models.Sequential()\n",
    "\n",
    "# add fully connected layer with a ReLU activation function\n",
    "network.add(layers.Dense(units=16,\n",
    "                        activation='relu',\n",
    "                        input_shape=(number_of_features,)))\n",
    "# add fully connected layer with a ReLU activation function\n",
    "network.add(layers.Dense(units=16,\n",
    "                        activation='relu'))\n",
    "# add fully connected layer with a sigmoid activation function\n",
    "network.add(layers.Dense(units=1,\n",
    "                        activation='sigmoid'))\n",
    "\n",
    "# compile neural network\n",
    "network.compile(loss='binary_crossentropy',\n",
    "               optimizer='rmsprop',\n",
    "               metrics=['accuracy'])\n",
    "\n",
    "# train neural network\n",
    "history = network.fit(features_train,\n",
    "                     target_train,\n",
    "                     epochs=3,\n",
    "                     verbose=1,\n",
    "                     batch_size=100,\n",
    "                     validation_data=(features_test, target_test))"
   ]
  },
  {
   "cell_type": "code",
   "execution_count": 10,
   "id": "a0d39ec8",
   "metadata": {},
   "outputs": [
    {
     "data": {
      "text/plain": [
       "(25000, 1000)"
      ]
     },
     "execution_count": 10,
     "metadata": {},
     "output_type": "execute_result"
    }
   ],
   "source": [
    "features_train.shape"
   ]
  },
  {
   "cell_type": "code",
   "execution_count": 6,
   "id": "09e451f3",
   "metadata": {},
   "outputs": [],
   "source": [
    "# TRAINING A MULTICLASS CLASSIFIER\n",
    "\n",
    "# set random seed\n",
    "np.random.seed(0)\n",
    "\n",
    "# set the number of features we want\n",
    "number_of_features = 5000\n",
    "\n",
    "# load feature and target data\n",
    "data = reuters.load_data(num_words=number_of_features)\n",
    "(data_train, target_vector_train), (data_test, target_vector_test) = data\n",
    "\n",
    "# convert feature data to a one-hot encoded feature matrix\n",
    "tokenizer = Tokenizer(num_words=number_of_features)\n",
    "features_train = tokenizer.sequences_to_matrix(data_train, mode='binary')\n",
    "features_test = tokenizer.sequences_to_matrix(data_test, mode='binary')\n",
    "\n",
    "# one-hot encode target vector to create a target matrix\n",
    "target_train = to_categorical(target_vector_train)\n",
    "target_test = to_categorical(target_vector_test)\n",
    "\n",
    "# start neural network\n",
    "network = models.Sequential()\n",
    "\n",
    "# add fully connected layer with a ReLU activation function\n",
    "network.add(layers.Dense(units=100,\n",
    "                        activation='relu',\n",
    "                        input_shape=(number_of_features,)))\n",
    "\n",
    "# add fully connected layer with a ReLU activation function\n",
    "network.add(layers.Dense(units=100,\n",
    "                        activation='relu'))\n",
    "\n",
    "# add fully connected layer with a softmax activation function\n",
    "network.add(layers.Dense(units=46,\n",
    "                        activation='softmax'))\n",
    "\n",
    "# compile neural network\n",
    "network.compile(loss='categorical_crossentropy',\n",
    "               optimizer='rmsprop',\n",
    "               metrics=['accuracy'])\n",
    "\n",
    "# train neural network\n",
    "history = network.fit(features_train,\n",
    "                     target_train,\n",
    "                     epochs=3,\n",
    "                     verbose=0,\n",
    "                     batch_size=100,\n",
    "                     validation_data=(features_test, target_test))"
   ]
  },
  {
   "cell_type": "code",
   "execution_count": 8,
   "id": "b8ff7f15",
   "metadata": {},
   "outputs": [],
   "source": [
    "# TRAINING A REGRESSOR\n",
    "\n",
    "# set random seed\n",
    "np.random.seed(0)\n",
    "\n",
    "# generate feature matrix\n",
    "features, target = make_regression(n_samples=10_000,\n",
    "                                  n_features=3,\n",
    "                                  n_informative=3,\n",
    "                                  n_targets=1,\n",
    "                                  noise=0.0,\n",
    "                                  random_state=0)\n",
    "\n",
    "# divede our data into training and test sets\n",
    "features_train, features_test, target_train, target_test = train_test_split(\n",
    "features, target, test_size=0.33, random_state=0)\n",
    "\n",
    "# start neural network\n",
    "network = models.Sequential()\n",
    "\n",
    "# add fully connected layer with ReLU\n",
    "network.add(layers.Dense(units=32,\n",
    "                        activation='relu',\n",
    "                        input_shape=(features_train.shape[1],)))\n",
    "# add fully connected layer\n",
    "network.add(layers.Dense(units=1))\n",
    "# compile neural network\n",
    "network.compile(loss='mse',\n",
    "               optimizer='RMSprop',\n",
    "               metrics=['mse'])\n",
    "\n",
    "# train neural network\n",
    "history = network.fit(features_train,\n",
    "                     target_train,\n",
    "                     epochs=10,\n",
    "                     verbose=0,\n",
    "                     batch_size=100,\n",
    "                     validation_data=(features_test, target_test))"
   ]
  },
  {
   "cell_type": "code",
   "execution_count": 9,
   "id": "7c778005",
   "metadata": {},
   "outputs": [],
   "source": [
    "# MAKING PREDICTIONS\n",
    "\n"
   ]
  },
  {
   "cell_type": "code",
   "execution_count": 14,
   "id": "3fc23e1d",
   "metadata": {},
   "outputs": [
    {
     "data": {
      "image/png": "[encoded data removed]",
      "text/plain": [
       "<Figure size 432x288 with 1 Axes>"
      ]
     },
     "metadata": {
      "needs_background": "light"
     },
     "output_type": "display_data"
    }
   ],
   "source": [
    "# VISUALIZE TRAINING HISTORY\n",
    "\n",
    "# set random seed\n",
    "np.random.seed(0)\n",
    "# set the number of features\n",
    "number_of_features = 10_000\n",
    "\n",
    "# load data and target vector\n",
    "(data_train, target_train), (data_test, target_test) = imdb.load_data(\n",
    "num_words=number_of_features)\n",
    "\n",
    "# convert movie review data to one-hot encoded feature matrix\n",
    "tokenizer = Tokenizer(num_words=number_of_features)\n",
    "features_train = tokenizer.sequences_to_matrix(data_train, \n",
    "                                               mode='binary')\n",
    "features_test = tokenizer.sequences_to_matrix(data_test,\n",
    "                                            mode='binary')\n",
    "\n",
    "# start neural network\n",
    "network = models.Sequential()\n",
    "\n",
    "# add dense ReLU layer\n",
    "network.add(layers.Dense(units=16,\n",
    "                        activation='relu',\n",
    "                        input_shape=(number_of_features,)))\n",
    "# add dense ReLU layer\n",
    "network.add(layers.Dense(units=16,\n",
    "                        activation='relu'))\n",
    "# add dense sigmoid layer\n",
    "network.add(layers.Dense(units=1,\n",
    "                        activation='sigmoid'))\n",
    "\n",
    "# compile neural network\n",
    "network.compile(loss='binary_crossentropy',\n",
    "               optimizer='rmsprop',\n",
    "               metrics=['accuracy'])\n",
    "\n",
    "# train neural network\n",
    "history = network.fit(features_train,\n",
    "                     target_train,\n",
    "                     epochs=15,\n",
    "                     verbose=0,\n",
    "                     batch_size=1_000,\n",
    "                     validation_data=(features_test, target_test))\n",
    "\n",
    "# get training and test loss histories\n",
    "training_loss = history.history['loss']\n",
    "test_loss = history.history['val_loss']\n",
    "\n",
    "# create count of the number of epochs\n",
    "epoch_count = range(1, len(training_loss) + 1)\n",
    "\n",
    "# visualize loss history\n",
    "plt.plot(epoch_count, training_loss, 'r--')\n",
    "plt.plot(epoch_count, test_loss, 'b-')\n",
    "plt.legend(['Training Loss', 'Test Loss'])\n",
    "plt.xlabel('Epoch')\n",
    "plt.ylabel('Loss')\n",
    "plt.show()"
   ]
  },
  {
   "cell_type": "code",
   "execution_count": 17,
   "id": "15cdad71",
   "metadata": {},
   "outputs": [
    {
     "data": {
      "image/png": "[encoded data removed]",
      "text/plain": [
       "<Figure size 432x288 with 1 Axes>"
      ]
     },
     "metadata": {
      "needs_background": "light"
     },
     "output_type": "display_data"
    }
   ],
   "source": [
    "# get training and test accuracy histories\n",
    "training_accuracy = history.history['accuracy']\n",
    "test_accuracy = history.history['val_accuracy']\n",
    "plt.plot(epoch_count, training_accuracy, 'r--')\n",
    "plt.plot(epoch_count, test_accuracy, 'b-')\n",
    "\n",
    "# visualize accuracy history\n",
    "plt.legend(['Training Accuracy', 'Test Accuracy'])\n",
    "plt.xlabel('Epoch')\n",
    "plt.ylabel('Accuracy Score')\n",
    "plt.show()"
   ]
  },
  {
   "cell_type": "code",
   "execution_count": 23,
   "id": "f0fdbbf5",
   "metadata": {},
   "outputs": [
    {
     "data": {
      "image/png": "[encoded data removed]",
      "text/plain": [
       "<Figure size 432x288 with 1 Axes>"
      ]
     },
     "metadata": {
      "needs_background": "light"
     },
     "output_type": "display_data"
    }
   ],
   "source": [
    "# REDUCING OVERFITTING WITH WEIGHT REGULARIZATION\n",
    "\n",
    "# Set random seed\n",
    "np.random.seed(0)\n",
    "# Set the number of features we want\n",
    "number_of_features = 1000\n",
    "# Load data and target vector from movie review data\n",
    "(data_train, target_train), (data_test, target_test) = imdb.load_data(\n",
    "num_words=number_of_features)\n",
    "# Convert movie review data to a one-hot encoded feature matrix\n",
    "tokenizer = Tokenizer(num_words=number_of_features)\n",
    "features_train = tokenizer.sequences_to_matrix(data_train, mode=\"binary\")\n",
    "features_test = tokenizer.sequences_to_matrix(data_test, mode=\"binary\")\n",
    "\n",
    "# Start neural network\n",
    "network = models.Sequential()\n",
    "# Add fully connected layer with a ReLU activation function\n",
    "network.add(layers.Dense(units=16,\n",
    "                         activation=\"relu\",\n",
    "                         kernel_regularizer=regularizers.l2(0.01),\n",
    "                         input_shape=(number_of_features,)))\n",
    "# Add fully connected layer with a ReLU activation function\n",
    "network.add(layers.Dense(units=16,\n",
    "                         kernel_regularizer=regularizers.l2(0.01),\n",
    "                         activation=\"relu\"))\n",
    "# Add fully connected layer with a sigmoid activation function\n",
    "network.add(layers.Dense(units=1, \n",
    "                         activation=\"sigmoid\"))\n",
    "# Compile neural network\n",
    "network.compile(loss='binary_crossentropy',\n",
    "               optimizer='rmsprop',\n",
    "               metrics=['accuracy'])\n",
    "\n",
    "# train neural network\n",
    "history = network.fit(features_train,\n",
    "                     target_train,\n",
    "                     epochs=10,\n",
    "                     verbose=0,\n",
    "                     batch_size=100,\n",
    "                     validation_data=(features_test, target_test))\n",
    "\n",
    "\n",
    "# get training and test loss histories\n",
    "training_loss = history.history['loss']\n",
    "test_loss = history.history['val_loss']\n",
    "\n",
    "# create count of the number of epochs\n",
    "epoch_count = range(1, len(training_loss) + 1)\n",
    "\n",
    "# visualize loss history\n",
    "plt.plot(epoch_count, training_loss, 'r--')\n",
    "plt.plot(epoch_count, test_loss, 'b-')\n",
    "plt.legend(['Training Loss', 'Test Loss'])\n",
    "plt.xlabel('Epoch')\n",
    "plt.ylabel('Loss')\n",
    "plt.show()"
   ]
  },
  {
   "cell_type": "code",
   "execution_count": 24,
   "id": "770060cb",
   "metadata": {},
   "outputs": [
    {
     "data": {
      "image/png": "[encoded data removed]",
      "text/plain": [
       "<Figure size 432x288 with 1 Axes>"
      ]
     },
     "metadata": {
      "needs_background": "light"
     },
     "output_type": "display_data"
    }
   ],
   "source": [
    "# get training and test accuracy histories\n",
    "training_accuracy = history.history['accuracy']\n",
    "test_accuracy = history.history['val_accuracy']\n",
    "plt.plot(epoch_count, training_accuracy, 'r--')\n",
    "plt.plot(epoch_count, test_accuracy, 'b-')\n",
    "\n",
    "# visualize accuracy history\n",
    "plt.legend(['Training Accuracy', 'Test Accuracy'])\n",
    "plt.xlabel('Epoch')\n",
    "plt.ylabel('Accuracy Score')\n",
    "plt.show()"
   ]
  },
  {
   "cell_type": "code",
   "execution_count": 27,
   "id": "a0782137",
   "metadata": {},
   "outputs": [],
   "source": [
    "# REDUCING OVERFITTING WITH EARLY STOPPING\n",
    "\n",
    "# Set random seed\n",
    "np.random.seed(0)\n",
    "# Set the number of features we want\n",
    "number_of_features = 1000\n",
    "\n",
    "# Load data and target vector from movie review data\n",
    "(data_train, target_train), (data_test, target_test) = imdb.load_data(\n",
    "num_words=number_of_features)\n",
    "\n",
    "# Convert movie review data to a one-hot encoded feature matrix\n",
    "tokenizer = Tokenizer(num_words=number_of_features)\n",
    "features_train = tokenizer.sequences_to_matrix(data_train, mode=\"binary\")\n",
    "features_test = tokenizer.sequences_to_matrix(data_test, mode=\"binary\")\n",
    "\n",
    "# Start neural network\n",
    "network = models.Sequential()\n",
    "# Add fully connected layer with a ReLU activation function\n",
    "network.add(layers.Dense(units=16,\n",
    "activation=\"relu\",\n",
    "input_shape=(number_of_features,)))\n",
    "# Add fully connected layer with a ReLU activation function\n",
    "network.add(layers.Dense(units=16, activation=\"relu\"))\n",
    "# Add fully connected layer with a sigmoid activation function\n",
    "network.add(layers.Dense(units=1, activation=\"sigmoid\"))\n",
    "\n",
    "# compile neural network\n",
    "network.compile(loss='binary_crossentropy',\n",
    "               optimizer='rmsprop',\n",
    "               metrics=['accuracy'])\n",
    "\n",
    "# set callback functions to early stop training and save the best model so far\n",
    "callbacks = [EarlyStopping(monitor='val_loss',\n",
    "                          patience=3),\n",
    "            ModelCheckpoint(filepath='best_model.h5',\n",
    "                           monitor='val_loss',\n",
    "                           save_best_only=True)]\n",
    "\n",
    "# train neural network\n",
    "history = network.fit(features_train,\n",
    "                     target_train,\n",
    "                     epochs=20,\n",
    "                     callbacks=callbacks,\n",
    "                     verbose=0,\n",
    "                     batch_size=100,\n",
    "                     validation_data=(features_test, target_test))"
   ]
  },
  {
   "cell_type": "code",
   "execution_count": 31,
   "id": "f97295e8",
   "metadata": {},
   "outputs": [
    {
     "data": {
      "image/png": "[encoded data removed]",
      "text/plain": [
       "<Figure size 432x288 with 1 Axes>"
      ]
     },
     "metadata": {
      "needs_background": "light"
     },
     "output_type": "display_data"
    }
   ],
   "source": [
    "# REDUCING OVERFITTING WITH DROPOUT\n",
    "\n",
    "# Set random seed\n",
    "np.random.seed(0)\n",
    "# Set the number of features we want\n",
    "number_of_features = 1000\n",
    "\n",
    "# Load data and target vector from movie review data\n",
    "(data_train, target_train), (data_test, target_test) = imdb.load_data(\n",
    "num_words=number_of_features)\n",
    "\n",
    "# Convert movie review data to a one-hot encoded feature matrix\n",
    "tokenizer = Tokenizer(num_words=number_of_features)\n",
    "features_train = tokenizer.sequences_to_matrix(data_train, mode=\"binary\")\n",
    "features_test = tokenizer.sequences_to_matrix(data_test, mode=\"binary\")\n",
    "\n",
    "# start neural network\n",
    "network = models.Sequential()\n",
    "\n",
    "# add a droupout layer before input\n",
    "network.add(layers.Dropout(0.2, \n",
    "                           input_shape=(number_of_features,)))\n",
    "# add dense ReLU layer\n",
    "network.add(layers.Dense(units=16,\n",
    "                        activation='relu'))\n",
    "# add a dropoutlayer before hidden layer\n",
    "network.add(layers.Dropout(0.5))\n",
    "# add dense ReLU layer\n",
    "network.add(layers.Dense(units=16,\n",
    "                        activation='relu'))\n",
    "# add dropout layer before hidden layer\n",
    "network.add(layers.Dropout(0.5))\n",
    "# add dense sigmoid layer\n",
    "network.add(layers.Dense(units=1,\n",
    "                       activation='sigmoid'))\n",
    "\n",
    "# Compile neural network\n",
    "network.compile(loss=\"binary_crossentropy\", # Cross-entropy\n",
    "                optimizer=\"rmsprop\", # Root Mean Square Propagation\n",
    "                metrics=[\"accuracy\"]) # Accuracy performance metric\n",
    "\n",
    "# Train neural network\n",
    "history = network.fit(features_train, # Features\n",
    "                      target_train, # Target vector\n",
    "                      epochs=12, # Number of epochs\n",
    "                      verbose=0, # No output\n",
    "                      batch_size=100, # Number of observations per batch\n",
    "                      validation_data=(features_test, target_test)) # Test data\n",
    "\n",
    "# get training and test loss histories\n",
    "training_loss = history.history['loss']\n",
    "test_loss = history.history['val_loss']\n",
    "\n",
    "# create count of the number of epochs\n",
    "epoch_count = range(1, len(training_loss) + 1)\n",
    "\n",
    "# visualize loss history\n",
    "plt.plot(epoch_count, training_loss, 'r--')\n",
    "plt.plot(epoch_count, test_loss, 'b-')\n",
    "plt.legend(['Training Loss', 'Test Loss'])\n",
    "plt.xlabel('Epoch')\n",
    "plt.ylabel('Loss')\n",
    "plt.show()"
   ]
  },
  {
   "cell_type": "code",
   "execution_count": 32,
   "id": "321ab92a",
   "metadata": {},
   "outputs": [
    {
     "data": {
      "image/png": "[encoded data removed]",
      "text/plain": [
       "<Figure size 432x288 with 1 Axes>"
      ]
     },
     "metadata": {
      "needs_background": "light"
     },
     "output_type": "display_data"
    }
   ],
   "source": [
    "# get training and test accuracy histories\n",
    "training_accuracy = history.history['accuracy']\n",
    "test_accuracy = history.history['val_accuracy']\n",
    "plt.plot(epoch_count, training_accuracy, 'r--')\n",
    "plt.plot(epoch_count, test_accuracy, 'b-')\n",
    "\n",
    "# visualize accuracy history\n",
    "plt.legend(['Training Accuracy', 'Test Accuracy'])\n",
    "plt.xlabel('Epoch')\n",
    "plt.ylabel('Accuracy Score')\n",
    "plt.show()"
   ]
  },
  {
   "cell_type": "code",
   "execution_count": 5,
   "id": "ff308307",
   "metadata": {},
   "outputs": [],
   "source": [
    "# SAVING MODEL TRAINING PROGRESS\n",
    "\n",
    "# set random seed\n",
    "np.random.seed(0)\n",
    "# set number of features\n",
    "number_of_features = 1000\n",
    "\n",
    "# load data and target vector\n",
    "(data_train, target_train), (data_test, target_test) = imdb.load_data(\n",
    "num_words=number_of_features)\n",
    "\n",
    "# convert movie review data to a one-hot encoded deature matrix\n",
    "tokenizer = Tokenizer(num_words=number_of_features)\n",
    "features_train = tokenizer.sequences_to_matrix(data_train, mode='binary')\n",
    "features_test = tokenizer.sequences_to_matrix(data_test, mode='binary')\n",
    "\n",
    "# start neural network\n",
    "network = models.Sequential()\n",
    "\n",
    "# add dense ReLU layer\n",
    "network.add(layers.Dense(units=16,\n",
    "                        activation='relu',\n",
    "                        input_shape=(number_of_features,)))\n",
    "# add dense relu layer\n",
    "network.add(layers.Dense(units=16,\n",
    "                        activation='relu'))\n",
    "# add dense sigmoid layer\n",
    "network.add(layers.Dense(units=1,\n",
    "                        activation='sigmoid'))\n",
    "\n",
    "# compile network\n",
    "network.compile(loss='binary_crossentropy',\n",
    "               optimizer='rmsprop',\n",
    "               metrics=['accuracy'])\n",
    "\n",
    "# set callback function to save best model\n",
    "checkpoint = [ModelCheckpoint(filepath='models.hdf5')]\n",
    "\n",
    "# train neural network\n",
    "history = network.fit(features_train,\n",
    "                     target_train,\n",
    "                     epochs=3,\n",
    "                     callbacks=checkpoint,\n",
    "                     verbose=0,\n",
    "                     batch_size=100,\n",
    "                     validation_data=(features_test, target_test))"
   ]
  },
  {
   "cell_type": "code",
   "execution_count": 8,
   "id": "a9767c43",
   "metadata": {},
   "outputs": [
    {
     "name": "stderr",
     "output_type": "stream",
     "text": [
      "C:\\Users\\antch\\AppData\\Local\\Temp/ipykernel_2816/85573753.py:38: DeprecationWarning: KerasClassifier is deprecated, use Sci-Keras (https://github.com/adriangb/scikeras) instead.\n",
      "  neural_network = KerasClassifier(build_fn=create_network,\n"
     ]
    },
    {
     "data": {
      "text/plain": [
       "array([0.91001797, 0.89558953, 0.86648667])"
      ]
     },
     "execution_count": 8,
     "metadata": {},
     "output_type": "execute_result"
    }
   ],
   "source": [
    "# K-FOLD CROSS-VALIDATING NEURAL NETWORKS\n",
    "\n",
    "# set random seed\n",
    "np.random.seed(0)\n",
    "# number of features\n",
    "number_of_features = 100\n",
    "\n",
    "# generate features matrix and target vector\n",
    "features, target = make_classification(n_samples=10_000,\n",
    "                                      n_features = number_of_features,\n",
    "                                      n_informative=3,\n",
    "                                      n_redundant=0,\n",
    "                                      n_classes=2,\n",
    "                                      weights = [0.5, 0.5],\n",
    "                                      random_state=0)\n",
    "\n",
    "# create function returning a compiled network\n",
    "def create_network():\n",
    "    \n",
    "    # start network\n",
    "    network = models.Sequential()\n",
    "    \n",
    "    # add layers\n",
    "    network.add(layers.Dense(units=16,\n",
    "                            activation='relu',\n",
    "                            input_shape=(number_of_features,)))\n",
    "    network.add(layers.Dense(units=16,\n",
    "                            activation='relu'))\n",
    "    network.add(layers.Dense(units=1,\n",
    "                            activation='sigmoid'))\n",
    "    # compile network\n",
    "    network.compile(loss='binary_crossentropy',\n",
    "                   optimizer='rmsprop',\n",
    "                   metrics=['accuracy'])\n",
    "    return network\n",
    "\n",
    "# wrap Keras madel so it can be used by scikit-learn\n",
    "neural_network = KerasClassifier(build_fn=create_network,\n",
    "                                epochs=10,\n",
    "                                batch_size=100,\n",
    "                                verbose=0)\n",
    "\n",
    "# evaluate neural network using three-fold cross-validation\n",
    "cross_val_score(neural_network, features, target, cv=3)"
   ]
  },
  {
   "cell_type": "code",
   "execution_count": null,
   "id": "caade9ea",
   "metadata": {},
   "outputs": [
    {
     "name": "stderr",
     "output_type": "stream",
     "text": [
      "C:\\Users\\antch\\AppData\\Local\\Temp/ipykernel_2816/3414743405.py:37: DeprecationWarning: KerasClassifier is deprecated, use Sci-Keras (https://github.com/adriangb/scikeras) instead.\n",
      "  neural_network = KerasClassifier(build_fn=create_network,\n"
     ]
    }
   ],
   "source": [
    "# TUNING NEURAL NETWORK\n",
    "\n",
    "# Set random seed\n",
    "np.random.seed(0)\n",
    "# Number of features\n",
    "number_of_features = 100\n",
    "# Generate features matrix and target vector\n",
    "features, target = make_classification(n_samples = 10000,\n",
    "                                       n_features = number_of_features,\n",
    "                                       n_informative = 3,\n",
    "                                       n_redundant = 0,\n",
    "                                       n_classes = 2,\n",
    "                                       weights = [.5, .5],\n",
    "                                       random_state = 0)\n",
    "\n",
    "# create function returning a compiled network\n",
    "def create_network(optimizer='rmsprop'):\n",
    "    \n",
    "    # start network\n",
    "    network = models.Sequential()\n",
    "    \n",
    "    # add layers\n",
    "    network.add(layers.Dense(units=16,\n",
    "                            activation='relu',\n",
    "                            input_shape=(number_of_features,)))\n",
    "    network.add(layers.Dense(units=16,\n",
    "                            activation='relu'))\n",
    "    network.add(layers.Dense(units=1,\n",
    "                            activation='sigmoid'))\n",
    "    # compile network\n",
    "    network.compile(loss='binary_crossentropy',\n",
    "                   optimizer=optimizer,\n",
    "                   metrics=['accuracy'])\n",
    "    return network\n",
    "\n",
    "# wrap Keras model so it can be used by sklearn\n",
    "neural_network = KerasClassifier(build_fn=create_network,\n",
    "                                verbose=0)\n",
    "\n",
    "# create hyperparameter space\n",
    "epochs = [5, 10]\n",
    "batches = [5, 10, 100]\n",
    "optimizers = ['rmsprop', 'adam']\n",
    "\n",
    "# create hyperparameter options\n",
    "hyperparameters = dict(optimizer=optimizers, \n",
    "                       epochs=epochs, \n",
    "                       batch_size=batches)\n",
    "# create grid search\n",
    "grid = GridSearchCV(estimator=neural_network,\n",
    "                   param_grid=hyperparameters)\n",
    "# fit grid search\n",
    "grid_result = grid.fit(features, target)\n",
    "# view params\n",
    "grid_result.best_params_"
   ]
  },
  {
   "cell_type": "code",
   "execution_count": null,
   "id": "f3f2366b",
   "metadata": {},
   "outputs": [],
   "source": []
  }
 ],
 "metadata": {
  "kernelspec": {
   "display_name": "Python 3 (ipykernel)",
   "language": "python",
   "name": "python3"
  },
  "language_info": {
   "codemirror_mode": {
    "name": "ipython",
    "version": 3
   },
   "file_extension": ".py",
   "mimetype": "text/x-python",
   "name": "python",
   "nbconvert_exporter": "python",
   "pygments_lexer": "ipython3",
   "version": "3.9.7"
  }
 },
 "nbformat": 4,
 "nbformat_minor": 5
}
