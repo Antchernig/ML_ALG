{
 "cells": [
  {
   "cell_type": "code",
   "execution_count": 25,
   "id": "a4937fda",
   "metadata": {},
   "outputs": [],
   "source": [
    "# Trees and Forests\n",
    "import numpy as np\n",
    "import pydotplus\n",
    "import matplotlib.pyplot as plt\n",
    "\n",
    "from sklearn import tree\n",
    "from sklearn.tree import DecisionTreeClassifier, DecisionTreeRegressor\n",
    "from sklearn import datasets\n",
    "from sklearn.ensemble import RandomForestClassifier, RandomForestRegressor\n",
    "from sklearn.ensemble import AdaBoostClassifier\n",
    "from sklearn.feature_selection import SelectFromModel\n",
    "\n",
    "from IPython.display import Image"
   ]
  },
  {
   "cell_type": "code",
   "execution_count": 4,
   "id": "65ec8581",
   "metadata": {},
   "outputs": [
    {
     "data": {
      "text/plain": [
       "array([[0., 1., 0.]])"
      ]
     },
     "execution_count": 4,
     "metadata": {},
     "output_type": "execute_result"
    }
   ],
   "source": [
    "# Training a Decision Tree Classifier\n",
    "\n",
    "# load data\n",
    "iris = datasets.load_iris()\n",
    "features, target = iris.data, iris.target\n",
    "\n",
    "# create decision tree classifier object\n",
    "# by deafault it uses Gini index for impurity\n",
    "decisiontree = DecisionTreeClassifier(random_state=0)\n",
    "# train model\n",
    "model = decisiontree.fit(features, target)\n",
    "\n",
    "# make new observation\n",
    "observation = [[5, 4, 3, 2]]\n",
    "# predict observation's class\n",
    "model.predict(observation)\n",
    "\n",
    "# see predicted class prababilities for the three classes\n",
    "model.predict_proba(observation)"
   ]
  },
  {
   "cell_type": "code",
   "execution_count": 5,
   "id": "7b672468",
   "metadata": {},
   "outputs": [],
   "source": [
    "# create decision tree classifier object using entropy\n",
    "decisiontree_entropy = DecisionTreeClassifier(criterion='entropy',\n",
    "                                             random_state=0)\n",
    "# train model\n",
    "model_entropy = decisiontree_entropy.fit(features, target)"
   ]
  },
  {
   "cell_type": "code",
   "execution_count": 9,
   "id": "0c8716db",
   "metadata": {},
   "outputs": [
    {
     "data": {
      "text/plain": [
       "array([33.])"
      ]
     },
     "execution_count": 9,
     "metadata": {},
     "output_type": "execute_result"
    }
   ],
   "source": [
    "# TRAINING A DECISION TREE REGRESSOR\n",
    "\n",
    "# load data with only two features\n",
    "boston = datasets.load_boston()\n",
    "features = boston.data[:, :2]\n",
    "target = boston.target\n",
    "\n",
    "# create decision tree classifier object\n",
    "# instead of reducing Gini or entropy \n",
    "# regressor try to reduce mean squared error (MSE)\n",
    "decisiontree = DecisionTreeRegressor(random_state=0)\n",
    "# train model\n",
    "model = decisiontree.fit(features, target)\n",
    "\n",
    "# make new observation\n",
    "observation = [[0.02, 16]]\n",
    "# predict value\n",
    "model.predict(observation)"
   ]
  },
  {
   "cell_type": "code",
   "execution_count": 10,
   "id": "b9bee6fa",
   "metadata": {},
   "outputs": [],
   "source": [
    "# let's change criterion from MSE to mean absolute error (MAE)\n",
    "decisiontree_mae = DecisionTreeRegressor(criterion='mae',\n",
    "                                        random_state=0)\n",
    "# train model\n",
    "madel_mae = decisiontree_mae.fit(features, target)"
   ]
  },
  {
   "cell_type": "code",
   "execution_count": 2,
   "id": "8571e461",
   "metadata": {},
   "outputs": [
    {
     "ename": "InvocationException",
     "evalue": "GraphViz's executables not found",
     "output_type": "error",
     "traceback": [
      "\u001b[1;31m---------------------------------------------------------------------------\u001b[0m",
      "\u001b[1;31mInvocationException\u001b[0m                       Traceback (most recent call last)",
      "\u001b[1;32m~\\AppData\\Local\\Temp/ipykernel_12832/950429205.py\u001b[0m in \u001b[0;36m<module>\u001b[1;34m\u001b[0m\n\u001b[0;32m     19\u001b[0m \u001b[0mgraph\u001b[0m \u001b[1;33m=\u001b[0m \u001b[0mpydotplus\u001b[0m\u001b[1;33m.\u001b[0m\u001b[0mgraph_from_dot_data\u001b[0m\u001b[1;33m(\u001b[0m\u001b[0mdot_data\u001b[0m\u001b[1;33m)\u001b[0m\u001b[1;33m\u001b[0m\u001b[1;33m\u001b[0m\u001b[0m\n\u001b[0;32m     20\u001b[0m \u001b[1;31m# show graph\u001b[0m\u001b[1;33m\u001b[0m\u001b[1;33m\u001b[0m\u001b[0m\n\u001b[1;32m---> 21\u001b[1;33m \u001b[0mImage\u001b[0m\u001b[1;33m(\u001b[0m\u001b[0mgraph\u001b[0m\u001b[1;33m.\u001b[0m\u001b[0mcreate_png\u001b[0m\u001b[1;33m(\u001b[0m\u001b[1;33m)\u001b[0m\u001b[1;33m)\u001b[0m\u001b[1;33m\u001b[0m\u001b[1;33m\u001b[0m\u001b[0m\n\u001b[0m",
      "\u001b[1;32m~\\anaconda3\\lib\\site-packages\\pydotplus\\graphviz.py\u001b[0m in \u001b[0;36m<lambda>\u001b[1;34m(f, prog)\u001b[0m\n\u001b[0;32m   1795\u001b[0m             self.__setattr__(\n\u001b[0;32m   1796\u001b[0m                 \u001b[1;34m'create_'\u001b[0m \u001b[1;33m+\u001b[0m \u001b[0mfrmt\u001b[0m\u001b[1;33m,\u001b[0m\u001b[1;33m\u001b[0m\u001b[1;33m\u001b[0m\u001b[0m\n\u001b[1;32m-> 1797\u001b[1;33m                 \u001b[1;32mlambda\u001b[0m \u001b[0mf\u001b[0m\u001b[1;33m=\u001b[0m\u001b[0mfrmt\u001b[0m\u001b[1;33m,\u001b[0m \u001b[0mprog\u001b[0m\u001b[1;33m=\u001b[0m\u001b[0mself\u001b[0m\u001b[1;33m.\u001b[0m\u001b[0mprog\u001b[0m\u001b[1;33m:\u001b[0m \u001b[0mself\u001b[0m\u001b[1;33m.\u001b[0m\u001b[0mcreate\u001b[0m\u001b[1;33m(\u001b[0m\u001b[0mformat\u001b[0m\u001b[1;33m=\u001b[0m\u001b[0mf\u001b[0m\u001b[1;33m,\u001b[0m \u001b[0mprog\u001b[0m\u001b[1;33m=\u001b[0m\u001b[0mprog\u001b[0m\u001b[1;33m)\u001b[0m\u001b[1;33m\u001b[0m\u001b[1;33m\u001b[0m\u001b[0m\n\u001b[0m\u001b[0;32m   1798\u001b[0m             )\n\u001b[0;32m   1799\u001b[0m             \u001b[0mf\u001b[0m \u001b[1;33m=\u001b[0m \u001b[0mself\u001b[0m\u001b[1;33m.\u001b[0m\u001b[0m__dict__\u001b[0m\u001b[1;33m[\u001b[0m\u001b[1;34m'create_'\u001b[0m \u001b[1;33m+\u001b[0m \u001b[0mfrmt\u001b[0m\u001b[1;33m]\u001b[0m\u001b[1;33m\u001b[0m\u001b[1;33m\u001b[0m\u001b[0m\n",
      "\u001b[1;32m~\\anaconda3\\lib\\site-packages\\pydotplus\\graphviz.py\u001b[0m in \u001b[0;36mcreate\u001b[1;34m(self, prog, format)\u001b[0m\n\u001b[0;32m   1957\u001b[0m             \u001b[0mself\u001b[0m\u001b[1;33m.\u001b[0m\u001b[0mprogs\u001b[0m \u001b[1;33m=\u001b[0m \u001b[0mfind_graphviz\u001b[0m\u001b[1;33m(\u001b[0m\u001b[1;33m)\u001b[0m\u001b[1;33m\u001b[0m\u001b[1;33m\u001b[0m\u001b[0m\n\u001b[0;32m   1958\u001b[0m             \u001b[1;32mif\u001b[0m \u001b[0mself\u001b[0m\u001b[1;33m.\u001b[0m\u001b[0mprogs\u001b[0m \u001b[1;32mis\u001b[0m \u001b[1;32mNone\u001b[0m\u001b[1;33m:\u001b[0m\u001b[1;33m\u001b[0m\u001b[1;33m\u001b[0m\u001b[0m\n\u001b[1;32m-> 1959\u001b[1;33m                 raise InvocationException(\n\u001b[0m\u001b[0;32m   1960\u001b[0m                     'GraphViz\\'s executables not found')\n\u001b[0;32m   1961\u001b[0m \u001b[1;33m\u001b[0m\u001b[0m\n",
      "\u001b[1;31mInvocationException\u001b[0m: GraphViz's executables not found"
     ]
    }
   ],
   "source": [
    "# VISUALIZING A DECISION TREE MODEL\n",
    "\n",
    "# load data\n",
    "iris = datasets.load_iris()\n",
    "features, target = iris.data, iris.target\n",
    "\n",
    "# create decision tree classifier object\n",
    "decisiontree = DecisionTreeClassifier(random_state=0)\n",
    "# train model\n",
    "model = decisiontree.fit(features, target)\n",
    "\n",
    "# create DOT data\n",
    "dot_data = tree.export_graphviz(decisiontree,\n",
    "                               out_file=None,\n",
    "                               feature_names = iris.feature_names,\n",
    "                               class_names = iris.target_names)\n",
    "\n",
    "# draw graph\n",
    "graph = pydotplus.graph_from_dot_data(dot_data)\n",
    "# show graph\n",
    "Image(graph.create_png())"
   ]
  },
  {
   "cell_type": "code",
   "execution_count": 5,
   "id": "cdf87d64",
   "metadata": {},
   "outputs": [
    {
     "data": {
      "text/plain": [
       "array([1])"
      ]
     },
     "execution_count": 5,
     "metadata": {},
     "output_type": "execute_result"
    }
   ],
   "source": [
    "# TRAINING A RANDOM FOREST CLASSIFIER\n",
    "\n",
    "# load data\n",
    "iris = datasets.load_iris()\n",
    "features, target = iris.data, iris.target\n",
    "\n",
    "# create random forest classifier object\n",
    "randomforest = RandomForestClassifier(random_state=0,\n",
    "                                     n_jobs=-1)\n",
    "# train model\n",
    "model = randomforest.fit(features, target)\n",
    "\n",
    "# make a new observation\n",
    "observation = [[5, 4, 3, 2]]\n",
    "model.predict(observation)"
   ]
  },
  {
   "cell_type": "code",
   "execution_count": 6,
   "id": "0735c17a",
   "metadata": {},
   "outputs": [],
   "source": [
    "# we also can change criterion in random forest\n",
    "randomforest_entropy = RandomForestClassifier(criterion='entropy',\n",
    "                                             random_state=0)\n",
    "# train model\n",
    "model_entropy = randomforest_entropy.fit(features, target)"
   ]
  },
  {
   "cell_type": "code",
   "execution_count": 9,
   "id": "30fa024e",
   "metadata": {},
   "outputs": [],
   "source": [
    "# TRAINIG A RANDOM FOREST REGRESSOR\n",
    "\n",
    "# load data\n",
    "boston = datasets.load_boston()\n",
    "features = boston.data[:, :2]\n",
    "target = boston.target\n",
    "\n",
    "# create random forest regressor\n",
    "randomforest = RandomForestRegressor(random_state=0,\n",
    "                                    n_jobs=-1)\n",
    "# fit model\n",
    "model = randomforest.fit(features, target)"
   ]
  },
  {
   "cell_type": "code",
   "execution_count": 15,
   "id": "dad754fe",
   "metadata": {},
   "outputs": [
    {
     "data": {
      "image/png": "[encoded data removed]",
      "text/plain": [
       "<Figure size 432x288 with 1 Axes>"
      ]
     },
     "metadata": {
      "needs_background": "light"
     },
     "output_type": "display_data"
    }
   ],
   "source": [
    "# IDENTIFYING IMPORTANT FEATURES IN RANDOM FOREST\n",
    "\n",
    "# load data\n",
    "iris = datasets.load_iris()\n",
    "features, target = iris.data, iris.target\n",
    "\n",
    "# create random forest classifier object\n",
    "randomforest = RandomForestClassifier(random_state=0,\n",
    "                                     n_jobs=-1)\n",
    "# train model\n",
    "model = randomforest.fit(features, target)\n",
    "\n",
    "# calculate feature importances\n",
    "importances = model.feature_importances_\n",
    "# sort feature importances in descending order\n",
    "indices = np.argsort(importances)[::-1]\n",
    "# rearrange feature names so they match the sorted feature importances\n",
    "names = [iris.feature_names[i] for i in indices]\n",
    "\n",
    "# create plot\n",
    "plt.figure()\n",
    "plt.title('Feature Importance')\n",
    "# add bars\n",
    "plt.bar(range(features.shape[1]), importances[indices])\n",
    "# add feature names as x-aaxis labels\n",
    "plt.xticks(range(features.shape[1]), names, rotation=90)\n",
    "# show plot\n",
    "plt.show()"
   ]
  },
  {
   "cell_type": "code",
   "execution_count": 21,
   "id": "025bdda3",
   "metadata": {},
   "outputs": [],
   "source": [
    "# SELCTING IMPORTANT FEATURES IN RANDOM FOREST\n",
    "\n",
    "# load data\n",
    "iris = datasets.load_iris()\n",
    "features, target = iris.data, iris.target\n",
    "\n",
    "# create random forest classifier object\n",
    "randomforest = RandomForestClassifier(random_state=0,\n",
    "                                     n_jobs=-1)\n",
    "\n",
    "# create object that selects features with importance greater than\n",
    "# or equal to a threshold\n",
    "selector = SelectFromModel(randomforest, threshold=0.3)\n",
    "\n",
    "# feature new feature matrix using selector\n",
    "features_important = selector.fit_transform(features, target)\n",
    "\n",
    "# train model using most important features\n",
    "model = randomforest.fit(features_important, target)"
   ]
  },
  {
   "cell_type": "code",
   "execution_count": 23,
   "id": "7f6392fb",
   "metadata": {},
   "outputs": [],
   "source": [
    "# HANDLING IMBALANCED CLASSES\n",
    "\n",
    "# Load data\n",
    "iris = datasets.load_iris()\n",
    "features = iris.data\n",
    "target = iris.target\n",
    "\n",
    "# make class highly imbalanced by removing first 40 observations\n",
    "features = features[40:, :]\n",
    "target = target[40:]\n",
    "\n",
    "# create target vector indicating if class 0, otherwise 1\n",
    "target = np.where((target == 0), 0, 1)\n",
    "\n",
    "# create random forest classifier object\n",
    "randomforest = RandomForestClassifier(random_state=0,\n",
    "                                     n_jobs=-1,\n",
    "                                     class_weight='balanced')\n",
    "\n",
    "# train model\n",
    "model = randomforest.fit(features, target)"
   ]
  },
  {
   "cell_type": "code",
   "execution_count": 24,
   "id": "133d58da",
   "metadata": {},
   "outputs": [],
   "source": [
    "# CONTROLLING TREE SIZE\n",
    "\n",
    "# Load data\n",
    "iris = datasets.load_iris()\n",
    "features = iris.data\n",
    "target = iris.target\n",
    "\n",
    "# create decision tree classifier object\n",
    "decisiontree = DecisionTreeClassifier(random_state=0,\n",
    "                                     max_depth=None,\n",
    "                                     min_samples_split=2,\n",
    "                                     min_samples_leaf=1,\n",
    "                                     min_weight_fraction_leaf=0,\n",
    "                                     max_leaf_nodes=None,\n",
    "                                     min_impurity_decrease=0)\n",
    "\n",
    "# train model\n",
    "model = decisiontree.fit(features, target)"
   ]
  },
  {
   "cell_type": "code",
   "execution_count": 26,
   "id": "6865c4dc",
   "metadata": {},
   "outputs": [],
   "source": [
    "# IMPROVING PERFORMANCE THROUGH BOOSTING\n",
    "\n",
    "# Load data\n",
    "iris = datasets.load_iris()\n",
    "features = iris.data\n",
    "target = iris.target\n",
    "\n",
    "# create adaboost tree classifier object\n",
    "adaboost = AdaBoostClassifier(random_state=0)\n",
    "# train model\n",
    "model = adaboost.fit(features, target)\n"
   ]
  },
  {
   "cell_type": "code",
   "execution_count": 27,
   "id": "074686fb",
   "metadata": {},
   "outputs": [
    {
     "data": {
      "text/plain": [
       "0.9533333333333334"
      ]
     },
     "execution_count": 27,
     "metadata": {},
     "output_type": "execute_result"
    }
   ],
   "source": [
    "# EVALUATING RANDOM FOREST WITH OUT-OF-BAG ERRORS\n",
    "\n",
    "# Load data\n",
    "iris = datasets.load_iris()\n",
    "features = iris.data\n",
    "target = iris.target\n",
    "\n",
    "# create random tree classifier object\n",
    "randomforest = RandomForestClassifier(random_state=0,\n",
    "                                     n_estimators=1000,\n",
    "                                     oob_score=True,\n",
    "                                     n_jobs=-1)\n",
    "# train model\n",
    "model = randomforest.fit(features, target)\n",
    "# view out of bag error\n",
    "model.oob_score_"
   ]
  },
  {
   "cell_type": "code",
   "execution_count": null,
   "id": "6c1d3a44",
   "metadata": {},
   "outputs": [],
   "source": []
  }
 ],
 "metadata": {
  "kernelspec": {
   "display_name": "Python 3 (ipykernel)",
   "language": "python",
   "name": "python3"
  },
  "language_info": {
   "codemirror_mode": {
    "name": "ipython",
    "version": 3
   },
   "file_extension": ".py",
   "mimetype": "text/x-python",
   "name": "python",
   "nbconvert_exporter": "python",
   "pygments_lexer": "ipython3",
   "version": "3.9.7"
  }
 },
 "nbformat": 4,
 "nbformat_minor": 5
}
