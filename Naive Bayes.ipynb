{
 "cells": [
  {
   "cell_type": "code",
   "execution_count": 14,
   "id": "3d14c4b5",
   "metadata": {},
   "outputs": [],
   "source": [
    "# NAIVE BAYES\n",
    "\n",
    "import numpy as np\n",
    "\n",
    "from sklearn import datasets\n",
    "from sklearn.naive_bayes import GaussianNB, MultinomialNB, BernoulliNB\n",
    "from sklearn.feature_extraction.text import CountVectorizer\n",
    "from sklearn.calibration import CalibratedClassifierCV\n"
   ]
  },
  {
   "cell_type": "code",
   "execution_count": 3,
   "id": "00b9468a",
   "metadata": {},
   "outputs": [
    {
     "data": {
      "text/plain": [
       "array([1])"
      ]
     },
     "execution_count": 3,
     "metadata": {},
     "output_type": "execute_result"
    }
   ],
   "source": [
    "# TRAINING A CLASSIFIER FOR CONTINUOUS FEATURES\n",
    "\n",
    "# load data\n",
    "iris = datasets.load_iris()\n",
    "features = iris.data\n",
    "target = iris.target\n",
    "\n",
    "# create Gaussian Naive Bayes object\n",
    "classifier = GaussianNB()\n",
    "# train model\n",
    "model = classifier.fit(features, target)\n",
    "\n",
    "# create new observation\n",
    "new_observation = [[4, 4, 4, 0.4]]\n",
    "\n",
    "# predict class\n",
    "model.predict(new_observation)"
   ]
  },
  {
   "cell_type": "code",
   "execution_count": 4,
   "id": "e4555274",
   "metadata": {},
   "outputs": [],
   "source": [
    "# create GaussianNB object with prior probabilities of each class\n",
    "clf = GaussianNB(priors=[0.25, 0.25, 0.5])\n",
    "# train model\n",
    "model = clf.fit(features, target)"
   ]
  },
  {
   "cell_type": "code",
   "execution_count": 11,
   "id": "5c3cc18f",
   "metadata": {},
   "outputs": [
    {
     "data": {
      "text/plain": [
       "array([0])"
      ]
     },
     "execution_count": 11,
     "metadata": {},
     "output_type": "execute_result"
    }
   ],
   "source": [
    "# TRAINING A CLASSIFIER FOR DISCRETE AND COUNT FEATURES\n",
    "\n",
    "# create text\n",
    "text_data = np.array(['I love Brazil. Brazil!',\n",
    "                     'Brazil is best',\n",
    "                     'Germany beats both'])\n",
    "\n",
    "# create bag of words\n",
    "count = CountVectorizer()\n",
    "bag_of_words = count.fit_transform(text_data)\n",
    "\n",
    "# create feature matrix\n",
    "features = bag_of_words.toarray()\n",
    "\n",
    "# create target vector\n",
    "target = np.array([0, 0, 1])\n",
    "\n",
    "# create multinomial naive bayes with prior prob of each class\n",
    "classifier = MultinomialNB(class_prior=[0.25, 0.5])\n",
    "# train model\n",
    "model = classifier.fit(features, target)\n",
    "\n",
    "# create new observation \n",
    "new_observation = [[0, 0, 0, 1, 0, 1, 0]]\n",
    "# predict new observation\n",
    "model.predict(new_observation)"
   ]
  },
  {
   "cell_type": "code",
   "execution_count": 13,
   "id": "50254cbb",
   "metadata": {},
   "outputs": [],
   "source": [
    "# TRAINING A NAIVE BAYES CLASSIFIER FOR BINARY FEATURES\n",
    "\n",
    "# create three binary features\n",
    "features = np.random.randint(2, size=(100, 3))\n",
    "\n",
    "# create a binary target vector\n",
    "target = np.random.randint(2, size=(100, 1)).ravel()\n",
    "\n",
    "# create Bernoulli Naive Bayes object with prior probabilities of each class\n",
    "classifier = BernoulliNB(class_prior=[0.25, 0.5])\n",
    "\n",
    "# train model\n",
    "model = classifier.fit(features, target)"
   ]
  },
  {
   "cell_type": "code",
   "execution_count": 15,
   "id": "3bc4ab11",
   "metadata": {},
   "outputs": [
    {
     "data": {
      "text/plain": [
       "array([[0.31859969, 0.63663466, 0.04476565]])"
      ]
     },
     "execution_count": 15,
     "metadata": {},
     "output_type": "execute_result"
    }
   ],
   "source": [
    "# CSLIBRATING PREDICTED PROBABILITIES\n",
    "\n",
    "# Load data\n",
    "iris = datasets.load_iris()\n",
    "features = iris.data\n",
    "target = iris.target\n",
    "\n",
    "# create FaussianNB\n",
    "classifier = GaussianNB()\n",
    "\n",
    "# Create calibrated cross-validation with sigmoid calibration\n",
    "classifier_sigmoid = CalibratedClassifierCV(classifier, cv=2, method='sigmoid')\n",
    "\n",
    "# calibrate probabilities\n",
    "classifier_sigmoid.fit(features, target)\n",
    "\n",
    "# create new observation\n",
    "new_observation = [[2.6, 2.6, 2.6, 0.4]]\n",
    "# view calibrated probabilities\n",
    "classifier_sigmoid.predict_proba(new_observation)"
   ]
  },
  {
   "cell_type": "code",
   "execution_count": null,
   "id": "58cca906",
   "metadata": {},
   "outputs": [],
   "source": []
  }
 ],
 "metadata": {
  "kernelspec": {
   "display_name": "Python 3 (ipykernel)",
   "language": "python",
   "name": "python3"
  },
  "language_info": {
   "codemirror_mode": {
    "name": "ipython",
    "version": 3
   },
   "file_extension": ".py",
   "mimetype": "text/x-python",
   "name": "python",
   "nbconvert_exporter": "python",
   "pygments_lexer": "ipython3",
   "version": "3.9.7"
  }
 },
 "nbformat": 4,
 "nbformat_minor": 5
}
