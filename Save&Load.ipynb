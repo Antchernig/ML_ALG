{
 "cells": [
  {
   "cell_type": "code",
   "execution_count": 2,
   "id": "7884a19a",
   "metadata": {},
   "outputs": [],
   "source": [
    "# SAVING AND LOADING TRAINED MODELS\n",
    "\n",
    "from sklearn.ensemble import RandomForestClassifier\n",
    "from sklearn import datasets\n",
    "import joblib"
   ]
  },
  {
   "cell_type": "code",
   "execution_count": 4,
   "id": "006dacd5",
   "metadata": {},
   "outputs": [
    {
     "data": {
      "text/plain": [
       "['model.pkl']"
      ]
     },
     "execution_count": 4,
     "metadata": {},
     "output_type": "execute_result"
    }
   ],
   "source": [
    "# SAVING AND LOADING A SCIKIT-LEARN MODEL\n",
    "\n",
    "# load data\n",
    "iris = datasets.load_iris()\n",
    "features, target = iris.data, iris.target\n",
    "\n",
    "# create decision tree classifier object\n",
    "classifier = RandomForestClassifier()\n",
    "# train model\n",
    "model = classifier.fit(features, target)\n",
    "# save model as pickle file\n",
    "joblib.dump(model, 'model.pkl')"
   ]
  },
  {
   "cell_type": "code",
   "execution_count": 5,
   "id": "a591bea0",
   "metadata": {},
   "outputs": [
    {
     "data": {
      "text/plain": [
       "array([0])"
      ]
     },
     "execution_count": 5,
     "metadata": {},
     "output_type": "execute_result"
    }
   ],
   "source": [
    "cls = joblib.load('model.pkl')\n",
    "# create new observation\n",
    "new_obs = [[ 5.2, 3.2, 1.1, 0.1]]\n",
    "# predict\n",
    "cls.predict(new_obs)"
   ]
  },
  {
   "cell_type": "code",
   "execution_count": null,
   "id": "196a7fb5",
   "metadata": {},
   "outputs": [],
   "source": []
  }
 ],
 "metadata": {
  "kernelspec": {
   "display_name": "Python 3 (ipykernel)",
   "language": "python",
   "name": "python3"
  },
  "language_info": {
   "codemirror_mode": {
    "name": "ipython",
    "version": 3
   },
   "file_extension": ".py",
   "mimetype": "text/x-python",
   "name": "python",
   "nbconvert_exporter": "python",
   "pygments_lexer": "ipython3",
   "version": "3.9.7"
  }
 },
 "nbformat": 4,
 "nbformat_minor": 5
}
