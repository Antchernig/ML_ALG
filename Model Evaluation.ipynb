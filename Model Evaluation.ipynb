{
 "cells": [
  {
   "cell_type": "code",
   "execution_count": 40,
   "id": "503054ef",
   "metadata": {},
   "outputs": [],
   "source": [
    "# Model Evaluation\n",
    "import numpy as np\n",
    "import pandas as pd\n",
    "import seaborn as sns\n",
    "import matplotlib.pyplot as plt\n",
    "\n",
    "from sklearn import datasets\n",
    "from sklearn import metrics\n",
    "from sklearn.metrics import roc_curve, roc_auc_score, confusion_matrix\n",
    "\n",
    "from sklearn.model_selection import KFold, cross_val_score\n",
    "from sklearn.pipeline import make_pipeline\n",
    "from sklearn.linear_model import LogisticRegression, LinearRegression\n",
    "from sklearn.preprocessing import StandardScaler\n",
    "\n",
    "from sklearn.model_selection import train_test_split\n",
    "\n",
    "from sklearn.datasets import load_boston, load_iris, load_digits\n",
    "from sklearn.datasets import make_regression\n",
    "from sklearn.dummy import DummyRegressor, DummyClassifier\n",
    "\n",
    "from sklearn.ensemble import RandomForestClassifier\n",
    "\n",
    "from sklearn.metrics import silhouette_score\n",
    "from sklearn.cluster import KMeans\n",
    "from sklearn.datasets import make_blobs, make_classification\n",
    "\n",
    "from sklearn.metrics import make_scorer, r2_score\n",
    "from sklearn.linear_model import Ridge\n",
    "\n",
    "from sklearn.model_selection import learning_curve, validation_curve"
   ]
  },
  {
   "cell_type": "code",
   "execution_count": 3,
   "id": "e209651a",
   "metadata": {},
   "outputs": [
    {
     "data": {
      "text/plain": [
       "0.9693916821849783"
      ]
     },
     "execution_count": 3,
     "metadata": {},
     "output_type": "execute_result"
    }
   ],
   "source": [
    "# Cross-Validating Models\n",
    "\n",
    "# load data\n",
    "digits = datasets.load_digits()\n",
    "# create feature matrix\n",
    "features= digits.data\n",
    "# create target vector\n",
    "target =digits.target\n",
    "\n",
    "# create standirdizer\n",
    "standardizer = StandardScaler()\n",
    "# create logistic regression object\n",
    "logit = LogisticRegression()\n",
    "# create pipeline that standardizes, then runs logistic regression\n",
    "pipeline = make_pipeline(standardizer, logit)\n",
    "\n",
    "# create k-fold cross-validation\n",
    "kf = KFold(n_splits=10, shuffle=True, random_state=1)\n",
    "\n",
    "# conduct k-fold cross-valisation\n",
    "cv_results = cross_val_score(pipeline,\n",
    "                            features,\n",
    "                            target,\n",
    "                            cv=kf,\n",
    "                            scoring='accuracy',\n",
    "                            n_jobs=-1)\n",
    "\n",
    "# calculate mean\n",
    "cv_results.mean()"
   ]
  },
  {
   "cell_type": "code",
   "execution_count": 5,
   "id": "0734d1bd",
   "metadata": {},
   "outputs": [],
   "source": [
    "# create training and test sets\n",
    "features_train, features_test, target_train, target_test = train_test_split(\n",
    "features, target, test_size=0.1, random_state=1)\n",
    "\n",
    "# fit standardizer to training set\n",
    "standardizer.fit(features_train)\n",
    "\n",
    "# apply to both training and test sets\n",
    "features_train_std = standardizer.transform(features_train)\n",
    "features_test_std = standatdizer.transform(features_test)\n",
    "# in pipeline scikit does all that work for us"
   ]
  },
  {
   "cell_type": "code",
   "execution_count": 8,
   "id": "272768be",
   "metadata": {},
   "outputs": [
    {
     "data": {
      "text/plain": [
       "-0.001119359203955339"
      ]
     },
     "execution_count": 8,
     "metadata": {},
     "output_type": "execute_result"
    }
   ],
   "source": [
    "# Creating a Baseline Regression Model\n",
    "\n",
    "# load data\n",
    "boston = load_boston()\n",
    "# create features\n",
    "features, target = boston.data, boston.target\n",
    "\n",
    "# make test and training split\n",
    "features_train, features_test, target_train, target_test = train_test_split(\n",
    "features, target, random_state=0)\n",
    "\n",
    "# create a dummy regressor\n",
    "dummy = DummyRegressor(strategy='mean')\n",
    "# train dummy regressor\n",
    "dummy.fit(features_train, target_train)\n",
    "# get R-squared score\n",
    "dummy.score(features_test, target_test)"
   ]
  },
  {
   "cell_type": "code",
   "execution_count": 11,
   "id": "ac3b4ff4",
   "metadata": {},
   "outputs": [
    {
     "data": {
      "text/plain": [
       "0.6354638433202114"
      ]
     },
     "execution_count": 11,
     "metadata": {},
     "output_type": "execute_result"
    }
   ],
   "source": [
    "# to compare get another model\n",
    "ols = LinearRegression()\n",
    "ols.fit(features_train, target_train)\n",
    "# get R-squared\n",
    "ols.score(features_test, target_test)"
   ]
  },
  {
   "cell_type": "code",
   "execution_count": 14,
   "id": "fe51dc58",
   "metadata": {},
   "outputs": [
    {
     "data": {
      "text/plain": [
       "0.42105263157894735"
      ]
     },
     "execution_count": 14,
     "metadata": {},
     "output_type": "execute_result"
    }
   ],
   "source": [
    "# Creating a Baseline Classification Model\n",
    "\n",
    "# load data\n",
    "iris = load_iris()\n",
    "# create feature matrix and target vector\n",
    "features, target = iris.data, iris.target\n",
    "\n",
    "# split into training and test sets\n",
    "features_train, features_test, target_train, target_test = train_test_split(\n",
    "features, target, random_state=0)\n",
    "\n",
    "# create dummy classifier\n",
    "dummy = DummyClassifier(strategy='uniform', random_state=1)\n",
    "\n",
    "# train model\n",
    "dummy.fit(features_train, target_train)\n",
    "\n",
    "# get accuracy score\n",
    "dummy.score(features_test, target_test)"
   ]
  },
  {
   "cell_type": "code",
   "execution_count": 16,
   "id": "a5560230",
   "metadata": {},
   "outputs": [
    {
     "data": {
      "text/plain": [
       "0.9736842105263158"
      ]
     },
     "execution_count": 16,
     "metadata": {},
     "output_type": "execute_result"
    }
   ],
   "source": [
    "# to compare get another model\n",
    "classifier = RandomForestClassifier()\n",
    "# train model\n",
    "classifier.fit(features_train, target_train)\n",
    "# get accuracy score\n",
    "classifier.score(features_test, target_test)"
   ]
  },
  {
   "cell_type": "code",
   "execution_count": 23,
   "id": "020d1756",
   "metadata": {},
   "outputs": [
    {
     "data": {
      "text/plain": [
       "array([0.95529884, 0.9500998 , 0.95827049, 0.95520886, 0.95577889])"
      ]
     },
     "execution_count": 23,
     "metadata": {},
     "output_type": "execute_result"
    }
   ],
   "source": [
    "# evaluating binary classifier predictions\n",
    "\n",
    "# generate features matrix and target vector\n",
    "X, y = make_classification(n_samples = 10000,\n",
    "                          n_features = 3,\n",
    "                          n_informative=3,\n",
    "                          n_redundant=0,\n",
    "                          n_classes=2,\n",
    "                          random_state=1)\n",
    "\n",
    "# create logistic regression\n",
    "logit = LogisticRegression()\n",
    "\n",
    "# cress-validate model using accuracy\n",
    "cross_val_score(logit, X, y, scoring='f1')"
   ]
  },
  {
   "cell_type": "code",
   "execution_count": 30,
   "id": "e1573ead",
   "metadata": {},
   "outputs": [
    {
     "data": {
      "image/png": "[encoded data removed]",
      "text/plain": [
       "<Figure size 432x288 with 1 Axes>"
      ]
     },
     "metadata": {
      "needs_background": "light"
     },
     "output_type": "display_data"
    }
   ],
   "source": [
    "# Evaluating Binary Classifier Thresholds\n",
    "# there is our ROC (Receiving Operating Characteristic)\n",
    "\n",
    "# generate feature matrix and target vector\n",
    "features, target = make_classification(n_samples=10000,\n",
    "                                      n_features=10,\n",
    "                                      n_classes=2,\n",
    "                                      n_informative=3,\n",
    "                                      random_state=3)\n",
    "\n",
    "# split into training and test sets\n",
    "features_train, features_test, target_train, target_test = train_test_split(\n",
    "features, target, test_size=0.1, random_state=1)\n",
    "\n",
    "# create classifier\n",
    "logit = LogisticRegression()\n",
    "# train model\n",
    "logit.fit(features_train, target_train)\n",
    "# get predicted probabilities\n",
    "target_probabilities = logit.predict_proba(features_test)[:, 1]\n",
    "\n",
    "# create true and false positive rates\n",
    "false_positive_rate, true_positive_rate, threshold = roc_curve(\n",
    "    target_test,\n",
    "    target_probabilities)\n",
    "\n",
    "# plot ROC curve\n",
    "plt.title('Receiver Operating Characteristic')\n",
    "plt.plot(false_positive_rate, true_positive_rate)\n",
    "plt.plot([0, 1], ls='--')\n",
    "plt.plot([0, 0], [1, 0], c='.7')\n",
    "plt.plot([1, 1], c='.7')\n",
    "plt.xlabel('True Positive Rate')\n",
    "plt.ylabel('False Positive Rate')\n",
    "plt.show()"
   ]
  },
  {
   "cell_type": "code",
   "execution_count": 10,
   "id": "3daf308f",
   "metadata": {},
   "outputs": [
    {
     "data": {
      "text/plain": [
       "array([0.841 , 0.829 , 0.8265, 0.8155, 0.82  ])"
      ]
     },
     "execution_count": 10,
     "metadata": {},
     "output_type": "execute_result"
    }
   ],
   "source": [
    "# Evaluate Multiclass Classifier Predictions\n",
    "\n",
    "# generate feature matrix and target vector\n",
    "features, target = make_classification( n_samples=10000,\n",
    "                                      n_features=3,\n",
    "                                      n_informative=3,\n",
    "                                      n_redundant=0,\n",
    "                                      n_classes=3,\n",
    "                                      random_state=1)\n",
    "\n",
    "# create logistic regression\n",
    "logit = LogisticRegression()\n",
    "# cross-validate model using accuracy\n",
    "cross_val_score(logit, features, target, scoring='accuracy')"
   ]
  },
  {
   "cell_type": "code",
   "execution_count": 11,
   "id": "f31c9f19",
   "metadata": {},
   "outputs": [
    {
     "data": {
      "text/plain": [
       "array([0.84061272, 0.82895312, 0.82625661, 0.81515121, 0.81992692])"
      ]
     },
     "execution_count": 11,
     "metadata": {},
     "output_type": "execute_result"
    }
   ],
   "source": [
    "# Cross-validate model using macro averaged F1 score\n",
    "cross_val_score(logit, features, target, scoring='f1_macro')"
   ]
  },
  {
   "cell_type": "code",
   "execution_count": 21,
   "id": "97338ed4",
   "metadata": {},
   "outputs": [
    {
     "name": "stderr",
     "output_type": "stream",
     "text": [
      "C:\\Desktop\\OpenCV_tutorial\\ml_env\\lib\\site-packages\\sklearn\\linear_model\\_logistic.py:940: ConvergenceWarning: lbfgs failed to converge (status=1):\n",
      "STOP: TOTAL NO. of ITERATIONS REACHED LIMIT.\n",
      "\n",
      "Increase the number of iterations (max_iter) or scale the data as shown in:\n",
      "    https://scikit-learn.org/stable/modules/preprocessing.html\n",
      "Please also refer to the documentation for alternative solver options:\n",
      "    https://scikit-learn.org/stable/modules/linear_model.html#logistic-regression\n",
      "  extra_warning_msg=_LOGISTIC_SOLVER_CONVERGENCE_MSG)\n"
     ]
    },
    {
     "data": {
      "image/png": "[encoded data removed]",
      "text/plain": [
       "<Figure size 432x288 with 1 Axes>"
      ]
     },
     "metadata": {
      "needs_background": "light"
     },
     "output_type": "display_data"
    }
   ],
   "source": [
    "# Visualizing a Classifier's Perfomance\n",
    "\n",
    "# load data\n",
    "iris = load_iris()\n",
    "# create feature matrix and target vector\n",
    "features, target = iris.data, iris.target\n",
    "# create list of target class names\n",
    "class_names = iris.target_names\n",
    "\n",
    "# create training and test sets\n",
    "features_train, features_test, target_train, target_test = train_test_split(\n",
    "features, target, random_state=1)\n",
    "\n",
    "# create logistic regression\n",
    "classifier = LogisticRegression()\n",
    "# train model and make predictions\n",
    "classifier = classifier.fit(features_train, target_train)\n",
    "target_predicted = classifier.predict(features_test)\n",
    "\n",
    "# create confusion matrix\n",
    "matrix = confusion_matrix(target_test, target_predicted)\n",
    "\n",
    "# create pandas dataframe\n",
    "dataframe = pd.DataFrame(matrix, index=class_names, columns=class_names)\n",
    "\n",
    "# create heatmap\n",
    "sns.heatmap(dataframe, annot=True, cbar=None, cmap='Blues')\n",
    "plt.title('Confusion Matrix')\n",
    "plt.tight_layout()\n",
    "plt.ylabel('True Class')\n",
    "plt.xlabel('Predicted Class')\n",
    "plt.show()"
   ]
  },
  {
   "cell_type": "code",
   "execution_count": 25,
   "id": "7fb87093",
   "metadata": {},
   "outputs": [
    {
     "data": {
      "text/plain": [
       "array([-1974.65337976, -2004.54137625, -3935.19355723, -1060.04361386,\n",
       "       -1598.74104702])"
      ]
     },
     "execution_count": 25,
     "metadata": {},
     "output_type": "execute_result"
    }
   ],
   "source": [
    "# Evaluating Regression Models\n",
    "\n",
    "# Use Mean Squared Erroe (MSE)\n",
    "# generate feature matrix and target vector\n",
    "features, target = make_regression(n_samples = 100,\n",
    "                                  n_features=3,\n",
    "                                  n_informative=3,\n",
    "                                  n_targets=1,\n",
    "                                  noise=50,\n",
    "                                  coef=False,\n",
    "                                  random_state=1)\n",
    "\n",
    "# create a linear regression object\n",
    "ols = LinearRegression()\n",
    "\n",
    "# cross-validate the linear regresssion using (negative) MSE\n",
    "cross_val_score(ols, features, target, scoring='neg_mean_squared_error')"
   ]
  },
  {
   "cell_type": "code",
   "execution_count": 26,
   "id": "7c0c9341",
   "metadata": {},
   "outputs": [
    {
     "data": {
      "text/plain": [
       "array([0.8622399 , 0.85838075, 0.74723548, 0.91354743, 0.84469331])"
      ]
     },
     "execution_count": 26,
     "metadata": {},
     "output_type": "execute_result"
    }
   ],
   "source": [
    "# or use another common regression metric R-squared\n",
    "cross_val_score(ols, features, target, scoring='r2')"
   ]
  },
  {
   "cell_type": "code",
   "execution_count": 30,
   "id": "4f676148",
   "metadata": {},
   "outputs": [
    {
     "data": {
      "text/plain": [
       "0.8916265564072142"
      ]
     },
     "execution_count": 30,
     "metadata": {},
     "output_type": "execute_result"
    }
   ],
   "source": [
    "# Evaluating Clustering Models\n",
    "\n",
    "# generate feature matrix\n",
    "features, _ = make_blobs(n_samples=1000,\n",
    "                        n_features=10,\n",
    "                        centers=2,\n",
    "                        cluster_std=0.5,\n",
    "                        shuffle=True,\n",
    "                        random_state=1)\n",
    "\n",
    "# cluster data using k-means to predict classes\n",
    "model = KMeans(n_clusters=2, random_state=1).fit(features)\n",
    "\n",
    "# get predicted classes\n",
    "target_predicted = model.labels_\n",
    "\n",
    "# evaluate model\n",
    "silhouette_score(features, target_predicted)"
   ]
  },
  {
   "cell_type": "code",
   "execution_count": 34,
   "id": "57d31fb7",
   "metadata": {},
   "outputs": [
    {
     "data": {
      "text/plain": [
       "0.9997906102882058"
      ]
     },
     "execution_count": 34,
     "metadata": {},
     "output_type": "execute_result"
    }
   ],
   "source": [
    "# Create a Custom Evaluation Metric\n",
    "\n",
    "# generate features matrix and target vector\n",
    "features, target = make_regression(n_samples=100,\n",
    "                                  n_features=3,\n",
    "                                  random_state=1)\n",
    "\n",
    "# create trainig and test sets\n",
    "features_train, features_test, target_train, target_test = train_test_split(\n",
    "features, target, test_size=0.1, random_state=1)\n",
    "\n",
    "# create custom metric\n",
    "def custom_metric(target_test, target_predicted):\n",
    "    # Calculate r-squared score\n",
    "    r2 = r2_score(target_test, target_predicted)\n",
    "    # return r-squared score\n",
    "    return r2\n",
    "\n",
    "# make scorer and define that higher scores are better\n",
    "score = make_scorer(custom_metric, greater_is_better=True)\n",
    "# create ridge regression object\n",
    "classifier = Ridge()\n",
    "# train ridge regression model\n",
    "model = classifier.fit(features_train, target_train)\n",
    "\n",
    "# apply custom metric\n",
    "score(model, features_test, target_test)"
   ]
  },
  {
   "cell_type": "code",
   "execution_count": 39,
   "id": "7c3acbf0",
   "metadata": {},
   "outputs": [
    {
     "data": {
      "image/png": "[encoded data removed]",
      "text/plain": [
       "<Figure size 432x288 with 1 Axes>"
      ]
     },
     "metadata": {
      "needs_background": "light"
     },
     "output_type": "display_data"
    }
   ],
   "source": [
    "# Visualizing the Effect of Training Set Size\n",
    "\n",
    "# load data\n",
    "digits = load_digits()\n",
    "\n",
    "# create feature matrix and target vector\n",
    "features, target = digits.data, digits.target\n",
    "\n",
    "# create CV training and test scores for various training set sizes\n",
    "train_sizes, train_scores, test_scores = learning_curve(RandomForestClassifier(),\n",
    "                                                       features,\n",
    "                                                       target,\n",
    "                                                       cv=10,\n",
    "                                                       scoring='accuracy',\n",
    "                                                       n_jobs=-1, \n",
    "                                                       train_sizes=np.linspace(\n",
    "                                                       0.01,\n",
    "                                                       1.0,\n",
    "                                                       50))\n",
    "\n",
    "# create means and standard deviations of training set scores\n",
    "train_mean = np.mean(train_scores, axis=1)\n",
    "train_std = np.std(train_scores, axis=1)\n",
    "\n",
    "# create means and standard deviations of test set scores\n",
    "test_mean = np.mean(test_scores, axis=1)\n",
    "test_std = np.std(test_scores, axis=1)\n",
    "\n",
    "# draw lines\n",
    "plt.plot(train_sizes, \n",
    "         train_mean,\n",
    "         '--', \n",
    "        color='#111111',\n",
    "        label='Training score')\n",
    "\n",
    "plt.plot(train_sizes, \n",
    "         test_mean,\n",
    "         color='#111111',\n",
    "        label='Cross-validation score')\n",
    "\n",
    "# Draw bands\n",
    "plt.fill_between(train_sizes, train_mean - train_std,\n",
    "                train_mean + train_std, color = '#DDDDDD')\n",
    "plt.fill_between(train_sizes, test_mean - test_std,\n",
    "                test_mean + test_std, color='#DDDDDD')\n",
    "\n",
    "# create plot\n",
    "plt.title('Learning Curve')\n",
    "plt.xlabel('Training Set Size')\n",
    "plt.ylabel('Accuracy Score')\n",
    "plt.legend(loc='best')\n",
    "plt.tight_layout()\n",
    "plt.show()"
   ]
  },
  {
   "cell_type": "code",
   "execution_count": 47,
   "id": "6d89e14a",
   "metadata": {},
   "outputs": [
    {
     "data": {
      "image/png": "[encoded data removed]",
      "text/plain": [
       "<Figure size 432x288 with 1 Axes>"
      ]
     },
     "metadata": {
      "needs_background": "light"
     },
     "output_type": "display_data"
    }
   ],
   "source": [
    "# Visualizing the Effect of Hyperparameter Values\n",
    "\n",
    "# load data\n",
    "digits = load_digits()\n",
    "# create feature matrix and target vector\n",
    "features, target = digits.data, digits.target\n",
    "\n",
    "# create range of values for parameter\n",
    "param_range = np.arange(1, 250, 2)\n",
    "# Calculate accureacy on training and test set using range of parameter values\n",
    "train_scores, test_scores = validation_curve(RandomForestClassifier(),\n",
    "                                            features,\n",
    "                                            target,\n",
    "                                            param_name='n_estimators',\n",
    "                                            param_range=param_range,\n",
    "                                            cv=3,\n",
    "                                            scoring='accuracy',\n",
    "                                            n_jobs=-1)\n",
    "\n",
    "# calculate mean and standard deviation for training set scores\n",
    "train_mean = np.mean(train_scores, axis=1)\n",
    "train_std = np.std(train_scores, axis=1)\n",
    "\n",
    "# calculate mean and standard deviation for test set scores\n",
    "test_mean = np.mean(test_scores, axis=1)\n",
    "test_std = np.std(test_scores, axis=1)\n",
    "\n",
    "# plot mean accuracy scores for training and test sets\n",
    "plt.plot(param_range, train_mean,\n",
    "        label='Training score',\n",
    "        color='black')\n",
    "plt.plot(param_range, test_mean,\n",
    "        label='Cross-validation score',\n",
    "        color='dimgrey')\n",
    "\n",
    "# plot accuracy bands for training and test sets\n",
    "plt.fill_between(param_range, train_mean - train_std,\n",
    "                train_mean + train_std, color='grey')\n",
    "plt.fill_between(param_range, test_mean - test_std,\n",
    "                test_mean + test_std, color='gainsboro')\n",
    "\n",
    "# create plot\n",
    "plt.title('Validation Curve Wirh Random Forest')\n",
    "plt.xlabel('Number of Trees')\n",
    "plt.ylabel('Accuracy Score')\n",
    "plt.tight_layout()\n",
    "plt.legend(loc='best')\n",
    "plt.show()"
   ]
  },
  {
   "cell_type": "code",
   "execution_count": null,
   "id": "87aabdf2",
   "metadata": {},
   "outputs": [],
   "source": []
  }
 ],
 "metadata": {
  "kernelspec": {
   "display_name": "Python 3",
   "language": "python",
   "name": "python3"
  },
  "language_info": {
   "codemirror_mode": {
    "name": "ipython",
    "version": 3
   },
   "file_extension": ".py",
   "mimetype": "text/x-python",
   "name": "python",
   "nbconvert_exporter": "python",
   "pygments_lexer": "ipython3",
   "version": "3.5.6"
  }
 },
 "nbformat": 4,
 "nbformat_minor": 5
}
